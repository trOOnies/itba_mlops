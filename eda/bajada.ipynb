{
 "cells": [
  {
   "cell_type": "markdown",
   "metadata": {},
   "source": [
    "# Preprocesamiento"
   ]
  },
  {
   "cell_type": "code",
   "execution_count": null,
   "metadata": {},
   "outputs": [],
   "source": [
    "import os\n",
    "import pandas as pd"
   ]
  },
  {
   "cell_type": "code",
   "execution_count": null,
   "metadata": {},
   "outputs": [
    {
     "data": {
      "text/plain": [
       "'c:\\\\Users\\\\fscasso\\\\OneDrive - S.A. La Nacion\\\\Documentos\\\\repos\\\\itba_mlops'"
      ]
     },
     "metadata": {},
     "output_type": "display_data"
    }
   ],
   "source": [
    "os.chdir(\"..\")\n",
    "os.getcwd()"
   ]
  },
  {
   "cell_type": "code",
   "execution_count": null,
   "metadata": {},
   "outputs": [],
   "source": [
    "DATA_URL = \"https://github.com/mlops-itba/Datos-RS/raw/main/data/\"\n",
    "RAW_FD = \"raw\""
   ]
  },
  {
   "cell_type": "code",
   "execution_count": null,
   "metadata": {},
   "outputs": [],
   "source": [
    "peliculas = pd.read_csv(DATA_URL + \"peliculas_0.csv\")\n",
    "personas = pd.read_csv(DATA_URL + \"personas_0.csv\")\n",
    "scores = pd.read_csv(DATA_URL + \"scores_0.csv\")\n",
    "trabajadores = pd.read_csv(DATA_URL + \"trabajadores_0.csv\")\n",
    "usuarios = pd.read_csv(DATA_URL + \"usuarios_0.csv\")"
   ]
  },
  {
   "cell_type": "code",
   "execution_count": null,
   "metadata": {},
   "outputs": [],
   "source": [
    "peliculas.to_csv(os.path.join(RAW_FD, \"peliculas_0.csv\"), index=False)\n",
    "personas.to_csv(os.path.join(RAW_FD, \"personas_0.csv\"), index=False)\n",
    "scores.to_csv(os.path.join(RAW_FD, \"scores_0.csv\"), index=False)\n",
    "trabajadores.to_csv(os.path.join(RAW_FD, \"trabajadores_0.csv\"), index=False)\n",
    "usuarios.to_csv(os.path.join(RAW_FD, \"usuarios_0.csv\"), index=False)\n",
    "del peliculas, personas, scores, trabajadores, usuarios"
   ]
  },
  {
   "cell_type": "code",
   "execution_count": null,
   "metadata": {},
   "outputs": [],
   "source": []
  }
 ],
 "metadata": {
  "language_info": {
   "name": "python"
  }
 },
 "nbformat": 4,
 "nbformat_minor": 2
}
