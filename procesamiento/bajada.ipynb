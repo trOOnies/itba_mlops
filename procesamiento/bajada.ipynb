{
 "cells": [
  {
   "cell_type": "markdown",
   "metadata": {},
   "source": [
    "# Preprocesamiento"
   ]
  },
  {
   "cell_type": "code",
   "execution_count": 1,
   "metadata": {},
   "outputs": [],
   "source": [
    "import os\n",
    "import pandas as pd"
   ]
  },
  {
   "cell_type": "code",
   "execution_count": 2,
   "metadata": {},
   "outputs": [
    {
     "data": {
      "text/plain": [
       "'c:\\\\Users\\\\FacundoScasso\\\\Documents\\\\GitHub\\\\itba_mlops'"
      ]
     },
     "execution_count": 2,
     "metadata": {},
     "output_type": "execute_result"
    }
   ],
   "source": [
    "os.chdir(\"..\")\n",
    "os.getcwd()"
   ]
  },
  {
   "cell_type": "code",
   "execution_count": 3,
   "metadata": {},
   "outputs": [],
   "source": [
    "DATA_URL = \"https://github.com/mlops-itba/Datos-RS/raw/main/data/\"\n",
    "RAW_FD = \"raw\"\n",
    "if not os.path.exists(RAW_FD):\n",
    "    os.mkdir(RAW_FD)"
   ]
  },
  {
   "cell_type": "code",
   "execution_count": 4,
   "metadata": {},
   "outputs": [],
   "source": [
    "peliculas = pd.read_csv(DATA_URL + \"peliculas_0.csv\")\n",
    "personas = pd.read_csv(DATA_URL + \"personas_0.csv\")\n",
    "scores = pd.read_csv(DATA_URL + \"scores_0.csv\")\n",
    "trabajadores = pd.read_csv(DATA_URL + \"trabajadores_0.csv\")\n",
    "usuarios = pd.read_csv(DATA_URL + \"usuarios_0.csv\")"
   ]
  },
  {
   "cell_type": "code",
   "execution_count": 5,
   "metadata": {},
   "outputs": [],
   "source": [
    "peliculas.to_csv(os.path.join(RAW_FD, \"peliculas_0.csv\"), index=False)\n",
    "personas.to_csv(os.path.join(RAW_FD, \"personas_0.csv\"), index=False)\n",
    "scores.to_csv(os.path.join(RAW_FD, \"scores_0.csv\"), index=False)\n",
    "trabajadores.to_csv(os.path.join(RAW_FD, \"trabajadores_0.csv\"), index=False)\n",
    "usuarios.to_csv(os.path.join(RAW_FD, \"usuarios_0.csv\"), index=False)\n",
    "del peliculas, personas, scores, trabajadores, usuarios"
   ]
  },
  {
   "cell_type": "code",
   "execution_count": null,
   "metadata": {},
   "outputs": [],
   "source": []
  }
 ],
 "metadata": {
  "kernelspec": {
   "display_name": "itba-mlops-env",
   "language": "python",
   "name": "python3"
  },
  "language_info": {
   "codemirror_mode": {
    "name": "ipython",
    "version": 3
   },
   "file_extension": ".py",
   "mimetype": "text/x-python",
   "name": "python",
   "nbconvert_exporter": "python",
   "pygments_lexer": "ipython3",
   "version": "3.10.11"
  }
 },
 "nbformat": 4,
 "nbformat_minor": 2
}
